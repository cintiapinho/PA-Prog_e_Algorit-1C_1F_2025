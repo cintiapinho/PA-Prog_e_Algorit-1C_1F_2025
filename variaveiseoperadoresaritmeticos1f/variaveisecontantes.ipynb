{
  "nbformat": 4,
  "nbformat_minor": 0,
  "metadata": {
    "colab": {
      "provenance": [],
      "authorship_tag": "ABX9TyNF8QPsgybB1lDQYF9zH2kV",
      "include_colab_link": true
    },
    "kernelspec": {
      "name": "python3",
      "display_name": "Python 3"
    },
    "language_info": {
      "name": "python"
    }
  },
  "cells": [
    {
      "cell_type": "markdown",
      "metadata": {
        "id": "view-in-github",
        "colab_type": "text"
      },
      "source": [
        "<a href=\"https://colab.research.google.com/github/cintiapinho/PA-Prog_e_Algorit-1C_1F_2025/blob/main/variaveiseoperadoresaritmeticos1f/variaveisecontantes.ipynb\" target=\"_parent\"><img src=\"https://colab.research.google.com/assets/colab-badge.svg\" alt=\"Open In Colab\"/></a>"
      ]
    },
    {
      "cell_type": "markdown",
      "source": [
        "# Variáveis e Constantes"
      ],
      "metadata": {
        "id": "uebaBvlVgRK_"
      }
    },
    {
      "cell_type": "code",
      "execution_count": null,
      "metadata": {
        "id": "ttSBt2Y1f9kz"
      },
      "outputs": [],
      "source": [
        "idade = 43\n",
        "altura = 1.52\n",
        "nome = \"Cíntia Pinho\"\n",
        "vai = True"
      ]
    },
    {
      "cell_type": "code",
      "source": [
        "nome=\"Tereza\""
      ],
      "metadata": {
        "id": "-JXQBg3Oh070"
      },
      "execution_count": null,
      "outputs": []
    },
    {
      "cell_type": "code",
      "source": [
        "print(nome)"
      ],
      "metadata": {
        "colab": {
          "base_uri": "https://localhost:8080/"
        },
        "id": "9XASDNejh5z6",
        "outputId": "f1b6503a-b77f-41c8-84db-ca7178af7e5f"
      },
      "execution_count": null,
      "outputs": [
        {
          "output_type": "stream",
          "name": "stdout",
          "text": [
            "Tereza\n"
          ]
        }
      ]
    },
    {
      "cell_type": "code",
      "source": [
        "nomes = [\"Cíntia Pinho\",\"Tereza\",\"Alberto\",\"Roberto\"]\n",
        "nomes2 = (\"Juliana\",\"Juliana\",\"Sérgio\",\"Carmelinda\")\n",
        "tudo = {nome:\"Cíntia Pinho\",idade: 42, altura:1.52}"
      ],
      "metadata": {
        "id": "YW8JNdSNiXeI"
      },
      "execution_count": null,
      "outputs": []
    },
    {
      "cell_type": "code",
      "source": [
        "print(nome)\n",
        "print(nomes)\n",
        "print(nomes2)\n",
        "print(tudo)"
      ],
      "metadata": {
        "colab": {
          "base_uri": "https://localhost:8080/"
        },
        "id": "dGjGJnTFjLJ-",
        "outputId": "8196207e-a05e-4079-b12d-ee57ba8bf874"
      },
      "execution_count": null,
      "outputs": [
        {
          "output_type": "stream",
          "name": "stdout",
          "text": [
            "Tereza\n",
            "['Cíntia Pinho', 'Tereza', 'Alberto', 'Roberto']\n",
            "('Juliana', 'Juliana', 'Sérgio', 'Carmelinda')\n",
            "{'Tereza': 'Cíntia Pinho', 43: 42, 1.52: 1.52}\n"
          ]
        }
      ]
    },
    {
      "cell_type": "code",
      "source": [
        "print(type(idade))\n",
        "print(type(altura))\n",
        "print(type(vai))\n",
        "print(type(nome))\n",
        "print(type(nomes))\n",
        "print(type(nomes2))\n",
        "print(type(tudo))"
      ],
      "metadata": {
        "colab": {
          "base_uri": "https://localhost:8080/"
        },
        "id": "6xXadO9IkGBv",
        "outputId": "5836b26d-3798-44be-f8d3-54cc7e4ebd4d"
      },
      "execution_count": null,
      "outputs": [
        {
          "output_type": "stream",
          "name": "stdout",
          "text": [
            "<class 'int'>\n",
            "<class 'float'>\n",
            "<class 'bool'>\n",
            "<class 'str'>\n",
            "<class 'list'>\n",
            "<class 'tuple'>\n",
            "<class 'dict'>\n"
          ]
        }
      ]
    },
    {
      "cell_type": "code",
      "source": [
        "set(nomes2)"
      ],
      "metadata": {
        "colab": {
          "base_uri": "https://localhost:8080/"
        },
        "id": "35SnYxrHmZo1",
        "outputId": "5d3ce67c-ab5f-45a9-d10c-1bc840e8aa2b"
      },
      "execution_count": null,
      "outputs": [
        {
          "output_type": "execute_result",
          "data": {
            "text/plain": [
              "{'Carmelinda', 'Juliana', 'Sérgio'}"
            ]
          },
          "metadata": {},
          "execution_count": 18
        }
      ]
    },
    {
      "cell_type": "code",
      "source": [
        "print(\"O nome dela é:\", nome, \", sua idade é:\", idade, \", ela tem\", altura,\" metros de altura\" )"
      ],
      "metadata": {
        "colab": {
          "base_uri": "https://localhost:8080/"
        },
        "id": "_gnFGLljpMrU",
        "outputId": "bef94028-8b4e-45dd-de75-b2f3a10ab3ec"
      },
      "execution_count": null,
      "outputs": [
        {
          "output_type": "stream",
          "name": "stdout",
          "text": [
            "O nome dela é: Tereza , sua idade é: 43 , ela tem 1.52  metros de altura\n"
          ]
        }
      ]
    },
    {
      "cell_type": "code",
      "source": [
        "print(f\"O nome dela é : {nome}. A Altura dela é:{altura}\")"
      ],
      "metadata": {
        "colab": {
          "base_uri": "https://localhost:8080/"
        },
        "id": "mh4kR1FIpfcm",
        "outputId": "9946b1ff-0e00-4371-f3b9-7b105709e6fa"
      },
      "execution_count": null,
      "outputs": [
        {
          "output_type": "stream",
          "name": "stdout",
          "text": [
            "O nome dela é : Tereza. A Altura dela é:1.52\n"
          ]
        }
      ]
    },
    {
      "cell_type": "markdown",
      "source": [
        "# Área do Círculo"
      ],
      "metadata": {
        "id": "IQTH9lsdix1W"
      }
    },
    {
      "cell_type": "code",
      "source": [
        "PI = 3.14159\n",
        "raio = float(input(\"Digite o valor do raio do círculo: \"))"
      ],
      "metadata": {
        "colab": {
          "base_uri": "https://localhost:8080/"
        },
        "id": "gu4pEYlivd_U",
        "outputId": "aa249188-2b5d-4685-ddcd-4b27780155a3"
      },
      "execution_count": null,
      "outputs": [
        {
          "name": "stdout",
          "output_type": "stream",
          "text": [
            "Digite o valor do raio do círculo: 4\n"
          ]
        }
      ]
    },
    {
      "cell_type": "code",
      "source": [
        "areacir = PI * (raio**2)"
      ],
      "metadata": {
        "id": "GZ4AL8DawBCB"
      },
      "execution_count": null,
      "outputs": []
    },
    {
      "cell_type": "code",
      "source": [
        "print(f\"A área do círculo é {areacir}\")"
      ],
      "metadata": {
        "colab": {
          "base_uri": "https://localhost:8080/"
        },
        "id": "E92rnsGywkD2",
        "outputId": "cabc6dfb-5af7-4a89-d99d-9a26ac91079d"
      },
      "execution_count": null,
      "outputs": [
        {
          "output_type": "stream",
          "name": "stdout",
          "text": [
            "A área do círculo é 50.26544\n"
          ]
        }
      ]
    },
    {
      "cell_type": "markdown",
      "source": [
        "Área do quadrado"
      ],
      "metadata": {
        "id": "N1EECt9Pzu-b"
      }
    },
    {
      "cell_type": "code",
      "source": [
        "true = \"Cintia\""
      ],
      "metadata": {
        "id": "esmDgdr7zxDS"
      },
      "execution_count": null,
      "outputs": []
    },
    {
      "cell_type": "code",
      "source": [
        "true"
      ],
      "metadata": {
        "id": "bdCRZTGA3kMz",
        "outputId": "061308cb-7f57-44b4-c590-b76341342b8e",
        "colab": {
          "base_uri": "https://localhost:8080/",
          "height": 35
        }
      },
      "execution_count": null,
      "outputs": [
        {
          "output_type": "execute_result",
          "data": {
            "text/plain": [
              "'Cintia'"
            ],
            "application/vnd.google.colaboratory.intrinsic+json": {
              "type": "string"
            }
          },
          "metadata": {},
          "execution_count": 36
        }
      ]
    }
  ]
}